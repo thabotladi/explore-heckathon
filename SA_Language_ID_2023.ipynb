{
  "cells": [
    {
      "cell_type": "markdown",
      "id": "nOqw1y7kc8ml",
      "metadata": {
        "id": "nOqw1y7kc8ml"
      },
      "source": [
        "# South African Language Identification Hack 2023"
      ]
    },
    {
      "cell_type": "markdown",
      "id": "LM0D5vgbc8mo",
      "metadata": {
        "id": "LM0D5vgbc8mo"
      },
      "source": [
        "This notebook will import all the libraries, data and different models to attempt this exercise modelling  "
      ]
    },
    {
      "cell_type": "markdown",
      "id": "pgUc-ptaAMLQ",
      "metadata": {
        "id": "pgUc-ptaAMLQ"
      },
      "source": []
    },
    {
      "cell_type": "markdown",
      "id": "yhRTToAnc8mp",
      "metadata": {
        "id": "yhRTToAnc8mp"
      },
      "source": []
    },
    {
      "cell_type": "code",
      "execution_count": 314,
      "id": "2p2rrhQac8mp",
      "metadata": {
        "id": "2p2rrhQac8mp"
      },
      "outputs": [],
      "source": [
        "#import all the libraries that will be used throughout the notebook\n",
        "import pandas as pd\n",
        "import numpy as np\n",
        "import matplotlib.pyplot as plt\n",
        "from sklearn.model_selection import train_test_split\n",
        "from sklearn.feature_extraction.text import HashingVectorizer\n",
        "from sklearn.feature_extraction.text import CountVectorizer\n",
        "from keras.preprocessing.text import Tokenizer\n",
        "from sklearn.preprocessing import LabelEncoder\n",
        "\n",
        "#models to be test\n",
        "from sklearn import svm\n",
        "from sklearn.model_selection import GridSearchCV\n",
        "from sklearn.linear_model import SGDClassifier\n",
        "from sklearn.linear_model import LogisticRegression\n",
        "from sklearn.ensemble import GradientBoostingClassifier\n",
        "from sklearn.ensemble import AdaBoostClassifier\n",
        "from sklearn.ensemble import RandomForestClassifier\n",
        "#importing the neural net modules\n",
        "from tensorflow.keras.layers import Dense\n",
        "from tensorflow.keras.models import Sequential\n",
        "from keras.models import Sequential\n",
        "from keras.layers import Embedding, Flatten, Dense\n",
        "from keras.preprocessing.sequence import pad_sequences\n",
        "from keras.utils import to_categorical\n",
        "\n",
        "#model evaluation\n",
        "from sklearn.metrics import f1_score\n",
        "from sklearn.neighbors import KNeighborsClassifier"
      ]
    },
    {
      "cell_type": "code",
      "execution_count": 315,
      "id": "DeZdaPMpc8mr",
      "metadata": {
        "id": "DeZdaPMpc8mr"
      },
      "outputs": [],
      "source": [
        "#import the test and training tests\n",
        "train_df = pd.read_csv('/content/train_set.csv')\n",
        "test_df = pd.read_csv('/content/test_set.csv')"
      ]
    },
    {
      "cell_type": "code",
      "execution_count": 316,
      "id": "-h0g4RmVc8mr",
      "metadata": {
        "colab": {
          "base_uri": "https://localhost:8080/",
          "height": 206
        },
        "id": "-h0g4RmVc8mr",
        "outputId": "3c6d1d37-9bf1-4030-d6dc-ee1f33a1c13a"
      },
      "outputs": [
        {
          "data": {
            "text/html": [
              "\n",
              "  <div id=\"df-47b9dc93-dbea-4761-8a0b-4168045f3f00\" class=\"colab-df-container\">\n",
              "    <div>\n",
              "<style scoped>\n",
              "    .dataframe tbody tr th:only-of-type {\n",
              "        vertical-align: middle;\n",
              "    }\n",
              "\n",
              "    .dataframe tbody tr th {\n",
              "        vertical-align: top;\n",
              "    }\n",
              "\n",
              "    .dataframe thead th {\n",
              "        text-align: right;\n",
              "    }\n",
              "</style>\n",
              "<table border=\"1\" class=\"dataframe\">\n",
              "  <thead>\n",
              "    <tr style=\"text-align: right;\">\n",
              "      <th></th>\n",
              "      <th>lang_id</th>\n",
              "      <th>text</th>\n",
              "    </tr>\n",
              "  </thead>\n",
              "  <tbody>\n",
              "    <tr>\n",
              "      <th>0</th>\n",
              "      <td>xho</td>\n",
              "      <td>umgaqo-siseko wenza amalungiselelo kumaziko ax...</td>\n",
              "    </tr>\n",
              "    <tr>\n",
              "      <th>1</th>\n",
              "      <td>xho</td>\n",
              "      <td>i-dha iya kuba nobulumko bokubeka umsebenzi na...</td>\n",
              "    </tr>\n",
              "    <tr>\n",
              "      <th>2</th>\n",
              "      <td>eng</td>\n",
              "      <td>the province of kwazulu-natal department of tr...</td>\n",
              "    </tr>\n",
              "    <tr>\n",
              "      <th>3</th>\n",
              "      <td>nso</td>\n",
              "      <td>o netefatša gore o ba file dilo ka moka tše le...</td>\n",
              "    </tr>\n",
              "    <tr>\n",
              "      <th>4</th>\n",
              "      <td>ven</td>\n",
              "      <td>khomishini ya ndinganyiso ya mbeu yo ewa maana...</td>\n",
              "    </tr>\n",
              "  </tbody>\n",
              "</table>\n",
              "</div>\n",
              "    <div class=\"colab-df-buttons\">\n",
              "\n",
              "  <div class=\"colab-df-container\">\n",
              "    <button class=\"colab-df-convert\" onclick=\"convertToInteractive('df-47b9dc93-dbea-4761-8a0b-4168045f3f00')\"\n",
              "            title=\"Convert this dataframe to an interactive table.\"\n",
              "            style=\"display:none;\">\n",
              "\n",
              "  <svg xmlns=\"http://www.w3.org/2000/svg\" height=\"24px\" viewBox=\"0 -960 960 960\">\n",
              "    <path d=\"M120-120v-720h720v720H120Zm60-500h600v-160H180v160Zm220 220h160v-160H400v160Zm0 220h160v-160H400v160ZM180-400h160v-160H180v160Zm440 0h160v-160H620v160ZM180-180h160v-160H180v160Zm440 0h160v-160H620v160Z\"/>\n",
              "  </svg>\n",
              "    </button>\n",
              "\n",
              "  <style>\n",
              "    .colab-df-container {\n",
              "      display:flex;\n",
              "      gap: 12px;\n",
              "    }\n",
              "\n",
              "    .colab-df-convert {\n",
              "      background-color: #E8F0FE;\n",
              "      border: none;\n",
              "      border-radius: 50%;\n",
              "      cursor: pointer;\n",
              "      display: none;\n",
              "      fill: #1967D2;\n",
              "      height: 32px;\n",
              "      padding: 0 0 0 0;\n",
              "      width: 32px;\n",
              "    }\n",
              "\n",
              "    .colab-df-convert:hover {\n",
              "      background-color: #E2EBFA;\n",
              "      box-shadow: 0px 1px 2px rgba(60, 64, 67, 0.3), 0px 1px 3px 1px rgba(60, 64, 67, 0.15);\n",
              "      fill: #174EA6;\n",
              "    }\n",
              "\n",
              "    .colab-df-buttons div {\n",
              "      margin-bottom: 4px;\n",
              "    }\n",
              "\n",
              "    [theme=dark] .colab-df-convert {\n",
              "      background-color: #3B4455;\n",
              "      fill: #D2E3FC;\n",
              "    }\n",
              "\n",
              "    [theme=dark] .colab-df-convert:hover {\n",
              "      background-color: #434B5C;\n",
              "      box-shadow: 0px 1px 3px 1px rgba(0, 0, 0, 0.15);\n",
              "      filter: drop-shadow(0px 1px 2px rgba(0, 0, 0, 0.3));\n",
              "      fill: #FFFFFF;\n",
              "    }\n",
              "  </style>\n",
              "\n",
              "    <script>\n",
              "      const buttonEl =\n",
              "        document.querySelector('#df-47b9dc93-dbea-4761-8a0b-4168045f3f00 button.colab-df-convert');\n",
              "      buttonEl.style.display =\n",
              "        google.colab.kernel.accessAllowed ? 'block' : 'none';\n",
              "\n",
              "      async function convertToInteractive(key) {\n",
              "        const element = document.querySelector('#df-47b9dc93-dbea-4761-8a0b-4168045f3f00');\n",
              "        const dataTable =\n",
              "          await google.colab.kernel.invokeFunction('convertToInteractive',\n",
              "                                                    [key], {});\n",
              "        if (!dataTable) return;\n",
              "\n",
              "        const docLinkHtml = 'Like what you see? Visit the ' +\n",
              "          '<a target=\"_blank\" href=https://colab.research.google.com/notebooks/data_table.ipynb>data table notebook</a>'\n",
              "          + ' to learn more about interactive tables.';\n",
              "        element.innerHTML = '';\n",
              "        dataTable['output_type'] = 'display_data';\n",
              "        await google.colab.output.renderOutput(dataTable, element);\n",
              "        const docLink = document.createElement('div');\n",
              "        docLink.innerHTML = docLinkHtml;\n",
              "        element.appendChild(docLink);\n",
              "      }\n",
              "    </script>\n",
              "  </div>\n",
              "\n",
              "\n",
              "<div id=\"df-bdbaa58d-604d-4222-8d2c-33d0ad329e78\">\n",
              "  <button class=\"colab-df-quickchart\" onclick=\"quickchart('df-bdbaa58d-604d-4222-8d2c-33d0ad329e78')\"\n",
              "            title=\"Suggest charts\"\n",
              "            style=\"display:none;\">\n",
              "\n",
              "<svg xmlns=\"http://www.w3.org/2000/svg\" height=\"24px\"viewBox=\"0 0 24 24\"\n",
              "     width=\"24px\">\n",
              "    <g>\n",
              "        <path d=\"M19 3H5c-1.1 0-2 .9-2 2v14c0 1.1.9 2 2 2h14c1.1 0 2-.9 2-2V5c0-1.1-.9-2-2-2zM9 17H7v-7h2v7zm4 0h-2V7h2v10zm4 0h-2v-4h2v4z\"/>\n",
              "    </g>\n",
              "</svg>\n",
              "  </button>\n",
              "\n",
              "<style>\n",
              "  .colab-df-quickchart {\n",
              "      --bg-color: #E8F0FE;\n",
              "      --fill-color: #1967D2;\n",
              "      --hover-bg-color: #E2EBFA;\n",
              "      --hover-fill-color: #174EA6;\n",
              "      --disabled-fill-color: #AAA;\n",
              "      --disabled-bg-color: #DDD;\n",
              "  }\n",
              "\n",
              "  [theme=dark] .colab-df-quickchart {\n",
              "      --bg-color: #3B4455;\n",
              "      --fill-color: #D2E3FC;\n",
              "      --hover-bg-color: #434B5C;\n",
              "      --hover-fill-color: #FFFFFF;\n",
              "      --disabled-bg-color: #3B4455;\n",
              "      --disabled-fill-color: #666;\n",
              "  }\n",
              "\n",
              "  .colab-df-quickchart {\n",
              "    background-color: var(--bg-color);\n",
              "    border: none;\n",
              "    border-radius: 50%;\n",
              "    cursor: pointer;\n",
              "    display: none;\n",
              "    fill: var(--fill-color);\n",
              "    height: 32px;\n",
              "    padding: 0;\n",
              "    width: 32px;\n",
              "  }\n",
              "\n",
              "  .colab-df-quickchart:hover {\n",
              "    background-color: var(--hover-bg-color);\n",
              "    box-shadow: 0 1px 2px rgba(60, 64, 67, 0.3), 0 1px 3px 1px rgba(60, 64, 67, 0.15);\n",
              "    fill: var(--button-hover-fill-color);\n",
              "  }\n",
              "\n",
              "  .colab-df-quickchart-complete:disabled,\n",
              "  .colab-df-quickchart-complete:disabled:hover {\n",
              "    background-color: var(--disabled-bg-color);\n",
              "    fill: var(--disabled-fill-color);\n",
              "    box-shadow: none;\n",
              "  }\n",
              "\n",
              "  .colab-df-spinner {\n",
              "    border: 2px solid var(--fill-color);\n",
              "    border-color: transparent;\n",
              "    border-bottom-color: var(--fill-color);\n",
              "    animation:\n",
              "      spin 1s steps(1) infinite;\n",
              "  }\n",
              "\n",
              "  @keyframes spin {\n",
              "    0% {\n",
              "      border-color: transparent;\n",
              "      border-bottom-color: var(--fill-color);\n",
              "      border-left-color: var(--fill-color);\n",
              "    }\n",
              "    20% {\n",
              "      border-color: transparent;\n",
              "      border-left-color: var(--fill-color);\n",
              "      border-top-color: var(--fill-color);\n",
              "    }\n",
              "    30% {\n",
              "      border-color: transparent;\n",
              "      border-left-color: var(--fill-color);\n",
              "      border-top-color: var(--fill-color);\n",
              "      border-right-color: var(--fill-color);\n",
              "    }\n",
              "    40% {\n",
              "      border-color: transparent;\n",
              "      border-right-color: var(--fill-color);\n",
              "      border-top-color: var(--fill-color);\n",
              "    }\n",
              "    60% {\n",
              "      border-color: transparent;\n",
              "      border-right-color: var(--fill-color);\n",
              "    }\n",
              "    80% {\n",
              "      border-color: transparent;\n",
              "      border-right-color: var(--fill-color);\n",
              "      border-bottom-color: var(--fill-color);\n",
              "    }\n",
              "    90% {\n",
              "      border-color: transparent;\n",
              "      border-bottom-color: var(--fill-color);\n",
              "    }\n",
              "  }\n",
              "</style>\n",
              "\n",
              "  <script>\n",
              "    async function quickchart(key) {\n",
              "      const quickchartButtonEl =\n",
              "        document.querySelector('#' + key + ' button');\n",
              "      quickchartButtonEl.disabled = true;  // To prevent multiple clicks.\n",
              "      quickchartButtonEl.classList.add('colab-df-spinner');\n",
              "      try {\n",
              "        const charts = await google.colab.kernel.invokeFunction(\n",
              "            'suggestCharts', [key], {});\n",
              "      } catch (error) {\n",
              "        console.error('Error during call to suggestCharts:', error);\n",
              "      }\n",
              "      quickchartButtonEl.classList.remove('colab-df-spinner');\n",
              "      quickchartButtonEl.classList.add('colab-df-quickchart-complete');\n",
              "    }\n",
              "    (() => {\n",
              "      let quickchartButtonEl =\n",
              "        document.querySelector('#df-bdbaa58d-604d-4222-8d2c-33d0ad329e78 button');\n",
              "      quickchartButtonEl.style.display =\n",
              "        google.colab.kernel.accessAllowed ? 'block' : 'none';\n",
              "    })();\n",
              "  </script>\n",
              "</div>\n",
              "    </div>\n",
              "  </div>\n"
            ],
            "text/plain": [
              "  lang_id                                               text\n",
              "0     xho  umgaqo-siseko wenza amalungiselelo kumaziko ax...\n",
              "1     xho  i-dha iya kuba nobulumko bokubeka umsebenzi na...\n",
              "2     eng  the province of kwazulu-natal department of tr...\n",
              "3     nso  o netefatša gore o ba file dilo ka moka tše le...\n",
              "4     ven  khomishini ya ndinganyiso ya mbeu yo ewa maana..."
            ]
          },
          "execution_count": 316,
          "metadata": {},
          "output_type": "execute_result"
        }
      ],
      "source": [
        "# first glance at training set\n",
        "train_df.head(5)"
      ]
    },
    {
      "cell_type": "code",
      "execution_count": 317,
      "id": "8o3Qnjx8c8ms",
      "metadata": {
        "colab": {
          "base_uri": "https://localhost:8080/"
        },
        "id": "8o3Qnjx8c8ms",
        "outputId": "88e23fa7-6b0c-4477-b445-7ab72fbf876c"
      },
      "outputs": [
        {
          "data": {
            "text/plain": [
              "(33000, 2)"
            ]
          },
          "execution_count": 317,
          "metadata": {},
          "output_type": "execute_result"
        }
      ],
      "source": [
        "# looking the shape of the provided data\n",
        "train_df.shape"
      ]
    },
    {
      "cell_type": "code",
      "execution_count": 318,
      "id": "VCKHWjA6c8ms",
      "metadata": {
        "colab": {
          "base_uri": "https://localhost:8080/"
        },
        "id": "VCKHWjA6c8ms",
        "outputId": "3598de6f-50e5-4c85-fa86-a943c177b908"
      },
      "outputs": [
        {
          "name": "stdout",
          "output_type": "stream",
          "text": [
            "['xho' 'eng' 'nso' 'ven' 'tsn' 'nbl' 'zul' 'ssw' 'tso' 'sot' 'afr']\n",
            "There are :  11 Different langauges\n"
          ]
        }
      ],
      "source": [
        "# The code below will explore the different targets values\n",
        "print(train_df.lang_id.unique())\n",
        "print(\"There are : \" , train_df['lang_id'].nunique(), \"Different langauges\")"
      ]
    },
    {
      "cell_type": "markdown",
      "id": "Qq0Wk8eMc8mt",
      "metadata": {
        "id": "Qq0Wk8eMc8mt"
      },
      "source": [
        "From Aboce we can observe that there are 11 different languages, this is conisident with the Sounth African demography"
      ]
    },
    {
      "cell_type": "markdown",
      "id": "RbUyRhstc8mt",
      "metadata": {
        "id": "RbUyRhstc8mt"
      },
      "source": [
        "## Explorig the target variable"
      ]
    },
    {
      "cell_type": "code",
      "execution_count": 319,
      "id": "gk2HNInvc8mt",
      "metadata": {
        "colab": {
          "base_uri": "https://localhost:8080/",
          "height": 430
        },
        "id": "gk2HNInvc8mt",
        "outputId": "3769a3e9-12ec-4450-e224-66af3d77492f"
      },
      "outputs": [
        {
          "data": {
            "image/png": "[encoded data removed]",
            "text/plain": [
              "<Figure size 640x480 with 1 Axes>"
            ]
          },
          "metadata": {},
          "output_type": "display_data"
        }
      ],
      "source": [
        "labels_counts = train_df['lang_id'].value_counts()\n",
        "fre = [x for x in labels_counts]\n",
        "labels = train_df.lang_id.unique()\n",
        "\n",
        "data_plot = {}\n",
        "\n",
        "for lang,count in zip(labels,labels_counts):\n",
        "    data_plot[lang] = count\n",
        "\n",
        "plt.bar(labels, labels_counts, color='green', linestyle='-')\n",
        "plt.show()"
      ]
    },
    {
      "cell_type": "markdown",
      "id": "h5sgCEnxc8mu",
      "metadata": {
        "id": "h5sgCEnxc8mu"
      },
      "source": [
        "From above, we can observe that the data is balanced. Thus potentially will generate balanced results"
      ]
    },
    {
      "cell_type": "markdown",
      "id": "BFzcxSc5MZEO",
      "metadata": {
        "id": "BFzcxSc5MZEO"
      },
      "source": [
        "# Text Preprocessing"
      ]
    },
    {
      "cell_type": "code",
      "execution_count": 320,
      "id": "D1FCsPGnQNDn",
      "metadata": {
        "colab": {
          "base_uri": "https://localhost:8080/"
        },
        "id": "D1FCsPGnQNDn",
        "outputId": "14281176-dd70-4ff1-8d80-2ef154a7f235"
      },
      "outputs": [
        {
          "name": "stderr",
          "output_type": "stream",
          "text": [
            "<ipython-input-320-73a18150ff46>:2: FutureWarning: The default value of regex will change from True to False in a future version.\n",
            "  train_df[\"text\"] = train_df['text'].str.replace('[^\\w\\s]','')\n",
            "<ipython-input-320-73a18150ff46>:3: FutureWarning: The default value of regex will change from True to False in a future version.\n",
            "  test_df[\"text\"] = test_df['text'].str.replace('[^\\w\\s]','')\n"
          ]
        }
      ],
      "source": [
        "#revome punctuation\n",
        "train_df[\"text\"] = train_df['text'].str.replace('[^\\w\\s]','')\n",
        "test_df[\"text\"] = test_df['text'].str.replace('[^\\w\\s]','')\n",
        "\n",
        "#convert all words to lower\n",
        "test_df[\"text\"] = test_df['text'].str.lower()\n",
        "test_df[\"text\"] = test_df['text'].str.lower()"
      ]
    },
    {
      "cell_type": "code",
      "execution_count": 321,
      "id": "3xs88cZYMd6m",
      "metadata": {
        "colab": {
          "base_uri": "https://localhost:8080/",
          "height": 206
        },
        "id": "3xs88cZYMd6m",
        "outputId": "67d9bd91-96c4-4665-bff7-77e240215a0d"
      },
      "outputs": [
        {
          "data": {
            "text/html": [
              "\n",
              "  <div id=\"df-73ad3887-7e9e-425a-913f-05b4b871a703\" class=\"colab-df-container\">\n",
              "    <div>\n",
              "<style scoped>\n",
              "    .dataframe tbody tr th:only-of-type {\n",
              "        vertical-align: middle;\n",
              "    }\n",
              "\n",
              "    .dataframe tbody tr th {\n",
              "        vertical-align: top;\n",
              "    }\n",
              "\n",
              "    .dataframe thead th {\n",
              "        text-align: right;\n",
              "    }\n",
              "</style>\n",
              "<table border=\"1\" class=\"dataframe\">\n",
              "  <thead>\n",
              "    <tr style=\"text-align: right;\">\n",
              "      <th></th>\n",
              "      <th>lang_id</th>\n",
              "      <th>text</th>\n",
              "    </tr>\n",
              "  </thead>\n",
              "  <tbody>\n",
              "    <tr>\n",
              "      <th>0</th>\n",
              "      <td>xho</td>\n",
              "      <td>umgaqosiseko wenza amalungiselelo kumaziko axh...</td>\n",
              "    </tr>\n",
              "    <tr>\n",
              "      <th>1</th>\n",
              "      <td>xho</td>\n",
              "      <td>idha iya kuba nobulumko bokubeka umsebenzi nap...</td>\n",
              "    </tr>\n",
              "    <tr>\n",
              "      <th>2</th>\n",
              "      <td>eng</td>\n",
              "      <td>the province of kwazulunatal department of tra...</td>\n",
              "    </tr>\n",
              "    <tr>\n",
              "      <th>3</th>\n",
              "      <td>nso</td>\n",
              "      <td>o netefatša gore o ba file dilo ka moka tše le...</td>\n",
              "    </tr>\n",
              "    <tr>\n",
              "      <th>4</th>\n",
              "      <td>ven</td>\n",
              "      <td>khomishini ya ndinganyiso ya mbeu yo ewa maana...</td>\n",
              "    </tr>\n",
              "  </tbody>\n",
              "</table>\n",
              "</div>\n",
              "    <div class=\"colab-df-buttons\">\n",
              "\n",
              "  <div class=\"colab-df-container\">\n",
              "    <button class=\"colab-df-convert\" onclick=\"convertToInteractive('df-73ad3887-7e9e-425a-913f-05b4b871a703')\"\n",
              "            title=\"Convert this dataframe to an interactive table.\"\n",
              "            style=\"display:none;\">\n",
              "\n",
              "  <svg xmlns=\"http://www.w3.org/2000/svg\" height=\"24px\" viewBox=\"0 -960 960 960\">\n",
              "    <path d=\"M120-120v-720h720v720H120Zm60-500h600v-160H180v160Zm220 220h160v-160H400v160Zm0 220h160v-160H400v160ZM180-400h160v-160H180v160Zm440 0h160v-160H620v160ZM180-180h160v-160H180v160Zm440 0h160v-160H620v160Z\"/>\n",
              "  </svg>\n",
              "    </button>\n",
              "\n",
              "  <style>\n",
              "    .colab-df-container {\n",
              "      display:flex;\n",
              "      gap: 12px;\n",
              "    }\n",
              "\n",
              "    .colab-df-convert {\n",
              "      background-color: #E8F0FE;\n",
              "      border: none;\n",
              "      border-radius: 50%;\n",
              "      cursor: pointer;\n",
              "      display: none;\n",
              "      fill: #1967D2;\n",
              "      height: 32px;\n",
              "      padding: 0 0 0 0;\n",
              "      width: 32px;\n",
              "    }\n",
              "\n",
              "    .colab-df-convert:hover {\n",
              "      background-color: #E2EBFA;\n",
              "      box-shadow: 0px 1px 2px rgba(60, 64, 67, 0.3), 0px 1px 3px 1px rgba(60, 64, 67, 0.15);\n",
              "      fill: #174EA6;\n",
              "    }\n",
              "\n",
              "    .colab-df-buttons div {\n",
              "      margin-bottom: 4px;\n",
              "    }\n",
              "\n",
              "    [theme=dark] .colab-df-convert {\n",
              "      background-color: #3B4455;\n",
              "      fill: #D2E3FC;\n",
              "    }\n",
              "\n",
              "    [theme=dark] .colab-df-convert:hover {\n",
              "      background-color: #434B5C;\n",
              "      box-shadow: 0px 1px 3px 1px rgba(0, 0, 0, 0.15);\n",
              "      filter: drop-shadow(0px 1px 2px rgba(0, 0, 0, 0.3));\n",
              "      fill: #FFFFFF;\n",
              "    }\n",
              "  </style>\n",
              "\n",
              "    <script>\n",
              "      const buttonEl =\n",
              "        document.querySelector('#df-73ad3887-7e9e-425a-913f-05b4b871a703 button.colab-df-convert');\n",
              "      buttonEl.style.display =\n",
              "        google.colab.kernel.accessAllowed ? 'block' : 'none';\n",
              "\n",
              "      async function convertToInteractive(key) {\n",
              "        const element = document.querySelector('#df-73ad3887-7e9e-425a-913f-05b4b871a703');\n",
              "        const dataTable =\n",
              "          await google.colab.kernel.invokeFunction('convertToInteractive',\n",
              "                                                    [key], {});\n",
              "        if (!dataTable) return;\n",
              "\n",
              "        const docLinkHtml = 'Like what you see? Visit the ' +\n",
              "          '<a target=\"_blank\" href=https://colab.research.google.com/notebooks/data_table.ipynb>data table notebook</a>'\n",
              "          + ' to learn more about interactive tables.';\n",
              "        element.innerHTML = '';\n",
              "        dataTable['output_type'] = 'display_data';\n",
              "        await google.colab.output.renderOutput(dataTable, element);\n",
              "        const docLink = document.createElement('div');\n",
              "        docLink.innerHTML = docLinkHtml;\n",
              "        element.appendChild(docLink);\n",
              "      }\n",
              "    </script>\n",
              "  </div>\n",
              "\n",
              "\n",
              "<div id=\"df-6a2490dc-7c39-4a22-a1b1-d00c3724b961\">\n",
              "  <button class=\"colab-df-quickchart\" onclick=\"quickchart('df-6a2490dc-7c39-4a22-a1b1-d00c3724b961')\"\n",
              "            title=\"Suggest charts\"\n",
              "            style=\"display:none;\">\n",
              "\n",
              "<svg xmlns=\"http://www.w3.org/2000/svg\" height=\"24px\"viewBox=\"0 0 24 24\"\n",
              "     width=\"24px\">\n",
              "    <g>\n",
              "        <path d=\"M19 3H5c-1.1 0-2 .9-2 2v14c0 1.1.9 2 2 2h14c1.1 0 2-.9 2-2V5c0-1.1-.9-2-2-2zM9 17H7v-7h2v7zm4 0h-2V7h2v10zm4 0h-2v-4h2v4z\"/>\n",
              "    </g>\n",
              "</svg>\n",
              "  </button>\n",
              "\n",
              "<style>\n",
              "  .colab-df-quickchart {\n",
              "      --bg-color: #E8F0FE;\n",
              "      --fill-color: #1967D2;\n",
              "      --hover-bg-color: #E2EBFA;\n",
              "      --hover-fill-color: #174EA6;\n",
              "      --disabled-fill-color: #AAA;\n",
              "      --disabled-bg-color: #DDD;\n",
              "  }\n",
              "\n",
              "  [theme=dark] .colab-df-quickchart {\n",
              "      --bg-color: #3B4455;\n",
              "      --fill-color: #D2E3FC;\n",
              "      --hover-bg-color: #434B5C;\n",
              "      --hover-fill-color: #FFFFFF;\n",
              "      --disabled-bg-color: #3B4455;\n",
              "      --disabled-fill-color: #666;\n",
              "  }\n",
              "\n",
              "  .colab-df-quickchart {\n",
              "    background-color: var(--bg-color);\n",
              "    border: none;\n",
              "    border-radius: 50%;\n",
              "    cursor: pointer;\n",
              "    display: none;\n",
              "    fill: var(--fill-color);\n",
              "    height: 32px;\n",
              "    padding: 0;\n",
              "    width: 32px;\n",
              "  }\n",
              "\n",
              "  .colab-df-quickchart:hover {\n",
              "    background-color: var(--hover-bg-color);\n",
              "    box-shadow: 0 1px 2px rgba(60, 64, 67, 0.3), 0 1px 3px 1px rgba(60, 64, 67, 0.15);\n",
              "    fill: var(--button-hover-fill-color);\n",
              "  }\n",
              "\n",
              "  .colab-df-quickchart-complete:disabled,\n",
              "  .colab-df-quickchart-complete:disabled:hover {\n",
              "    background-color: var(--disabled-bg-color);\n",
              "    fill: var(--disabled-fill-color);\n",
              "    box-shadow: none;\n",
              "  }\n",
              "\n",
              "  .colab-df-spinner {\n",
              "    border: 2px solid var(--fill-color);\n",
              "    border-color: transparent;\n",
              "    border-bottom-color: var(--fill-color);\n",
              "    animation:\n",
              "      spin 1s steps(1) infinite;\n",
              "  }\n",
              "\n",
              "  @keyframes spin {\n",
              "    0% {\n",
              "      border-color: transparent;\n",
              "      border-bottom-color: var(--fill-color);\n",
              "      border-left-color: var(--fill-color);\n",
              "    }\n",
              "    20% {\n",
              "      border-color: transparent;\n",
              "      border-left-color: var(--fill-color);\n",
              "      border-top-color: var(--fill-color);\n",
              "    }\n",
              "    30% {\n",
              "      border-color: transparent;\n",
              "      border-left-color: var(--fill-color);\n",
              "      border-top-color: var(--fill-color);\n",
              "      border-right-color: var(--fill-color);\n",
              "    }\n",
              "    40% {\n",
              "      border-color: transparent;\n",
              "      border-right-color: var(--fill-color);\n",
              "      border-top-color: var(--fill-color);\n",
              "    }\n",
              "    60% {\n",
              "      border-color: transparent;\n",
              "      border-right-color: var(--fill-color);\n",
              "    }\n",
              "    80% {\n",
              "      border-color: transparent;\n",
              "      border-right-color: var(--fill-color);\n",
              "      border-bottom-color: var(--fill-color);\n",
              "    }\n",
              "    90% {\n",
              "      border-color: transparent;\n",
              "      border-bottom-color: var(--fill-color);\n",
              "    }\n",
              "  }\n",
              "</style>\n",
              "\n",
              "  <script>\n",
              "    async function quickchart(key) {\n",
              "      const quickchartButtonEl =\n",
              "        document.querySelector('#' + key + ' button');\n",
              "      quickchartButtonEl.disabled = true;  // To prevent multiple clicks.\n",
              "      quickchartButtonEl.classList.add('colab-df-spinner');\n",
              "      try {\n",
              "        const charts = await google.colab.kernel.invokeFunction(\n",
              "            'suggestCharts', [key], {});\n",
              "      } catch (error) {\n",
              "        console.error('Error during call to suggestCharts:', error);\n",
              "      }\n",
              "      quickchartButtonEl.classList.remove('colab-df-spinner');\n",
              "      quickchartButtonEl.classList.add('colab-df-quickchart-complete');\n",
              "    }\n",
              "    (() => {\n",
              "      let quickchartButtonEl =\n",
              "        document.querySelector('#df-6a2490dc-7c39-4a22-a1b1-d00c3724b961 button');\n",
              "      quickchartButtonEl.style.display =\n",
              "        google.colab.kernel.accessAllowed ? 'block' : 'none';\n",
              "    })();\n",
              "  </script>\n",
              "</div>\n",
              "    </div>\n",
              "  </div>\n"
            ],
            "text/plain": [
              "  lang_id                                               text\n",
              "0     xho  umgaqosiseko wenza amalungiselelo kumaziko axh...\n",
              "1     xho  idha iya kuba nobulumko bokubeka umsebenzi nap...\n",
              "2     eng  the province of kwazulunatal department of tra...\n",
              "3     nso  o netefatša gore o ba file dilo ka moka tše le...\n",
              "4     ven  khomishini ya ndinganyiso ya mbeu yo ewa maana..."
            ]
          },
          "execution_count": 321,
          "metadata": {},
          "output_type": "execute_result"
        }
      ],
      "source": [
        "train_df.head()"
      ]
    },
    {
      "cell_type": "markdown",
      "id": "0XCUmPapc8mu",
      "metadata": {
        "id": "0XCUmPapc8mu"
      },
      "source": [
        "# Tokenize / Vectorising\n"
      ]
    },
    {
      "cell_type": "code",
      "execution_count": 322,
      "id": "emj4VLJ3c8mv",
      "metadata": {
        "colab": {
          "base_uri": "https://localhost:8080/",
          "height": 87
        },
        "id": "emj4VLJ3c8mv",
        "outputId": "c864fdea-57e5-4716-df4f-713ea9423301"
      },
      "outputs": [
        {
          "name": "stdout",
          "output_type": "stream",
          "text": [
            "Splitting imput data\n",
            "Vectoriser\n"
          ]
        },
        {
          "data": {
            "application/vnd.google.colaboratory.intrinsic+json": {
              "type": "string"
            },
            "text/plain": [
              "'#padding all sequences to ensure consitent length\\nmax_sequence_length = max(len(seq) for seq in X_train + X_test)\\nX_train = pad_sequences(X_train, maxlen=max_sequence_length)\\nX_test = pad_sequences(X_test, maxlen=max_sequence_length)'"
            ]
          },
          "execution_count": 322,
          "metadata": {},
          "output_type": "execute_result"
        }
      ],
      "source": [
        "#vactorize data\n",
        "\n",
        "print('Splitting imput data')\n",
        "X_train, X_test, Y_train, Y_test = train_test_split(train_df['text'], train_df['lang_id'], test_size=0.20)\n",
        "\n",
        "print('Vectoriser')\n",
        "#train and test vectoriser\n",
        "vectoriser = HashingVectorizer()\n",
        "vectorizer = HashingVectorizer(ngram_range = (1,1))\n",
        "X_train = vectorizer.fit_transform(X_train)\n",
        "X_test = vectorizer.transform(X_test)\n",
        "\n",
        "\"\"\"#padding all sequences to ensure consitent length\n",
        "max_sequence_length = max(len(seq) for seq in X_train + X_test)\n",
        "X_train = pad_sequences(X_train, maxlen=max_sequence_length)\n",
        "X_test = pad_sequences(X_test, maxlen=max_sequence_length)\"\"\"\n"
      ]
    },
    {
      "cell_type": "markdown",
      "id": "GoALDz_E2M80",
      "metadata": {
        "id": "GoALDz_E2M80"
      },
      "source": [
        "# Modeling"
      ]
    },
    {
      "cell_type": "code",
      "execution_count": null,
      "id": "dl3rUaQW2KcA",
      "metadata": {
        "id": "dl3rUaQW2KcA"
      },
      "outputs": [],
      "source": [
        "\"\"\"print('Fitting lR')\n",
        "# Support vector classifier\n",
        "clf = KNeighborsClassifier(n_neighbors=9)\n",
        "clf.fit(train_matrix, train_data['lang_id'])\n",
        "\n",
        "y_pred = clf.predict(test_matrix)\n",
        "f1 = f1_score(test_data['lang_id'], y_pred, average='micro')\n",
        "print(f1)\"\"\""
      ]
    },
    {
      "cell_type": "code",
      "execution_count": 9,
      "id": "113950ac",
      "metadata": {
        "id": "113950ac"
      },
      "outputs": [],
      "source": [
        "#generate predictions for kaggle\n",
        "kaggle_test_matrix = vectorizer.transform(test_df['text'].values.astype('U'))\n",
        "predictions = clf.predict(kaggle_test_matrix)"
      ]
    },
    {
      "cell_type": "code",
      "execution_count": 10,
      "id": "4817b9cb",
      "metadata": {
        "id": "4817b9cb"
      },
      "outputs": [],
      "source": [
        "#write to csv\n",
        "test_df.head()\n",
        "output_df = test_df[['index']]\n",
        "output_df['lang_id'] = predictions\n",
        "\n",
        "output_df.to_csv(f'kaggle_submission.csv', index=False)\n",
        "\n"
      ]
    },
    {
      "cell_type": "code",
      "execution_count": null,
      "id": "Go3_w7iQc8mw",
      "metadata": {
        "id": "Go3_w7iQc8mw"
      },
      "outputs": [],
      "source": [
        "#data split\n",
        "#X_train, X_test, y_train, y_test = train_test_split(vc_features,vc_labels, test_size=0.30,random_state=42)"
      ]
    },
    {
      "cell_type": "markdown",
      "id": "eda8391c",
      "metadata": {
        "id": "eda8391c"
      },
      "source": [
        "\n",
        "\n"
      ]
    },
    {
      "cell_type": "markdown",
      "id": "6273d36c",
      "metadata": {
        "id": "6273d36c"
      },
      "source": [
        "## Modellig function"
      ]
    },
    {
      "cell_type": "code",
      "execution_count": null,
      "id": "8a4f09e2",
      "metadata": {
        "id": "8a4f09e2"
      },
      "outputs": [],
      "source": [
        "def train_models_and_evaluate(df):\n",
        "    # Train-test split\n",
        "    print('Splitting imput data')\n",
        "    train_data,test_data = train_test_split(df,test_size = 0.20)\n",
        "\n",
        "\n",
        "    print('HashingVectorizer')\n",
        "    #train and test vectoriser\n",
        "    vectorizer = HashingVectorizer(ngram_range = (1,1))\n",
        "    train_matrix = vectorizer.fit_transform(train_data['text'].values.astype('U'))\n",
        "    test_matrix = vectorizer.transform(test_data['text'].values.astype('U'))\n",
        "\n",
        "\n",
        "    # Modelling\n",
        "    # 20 trees in forest\n",
        "    print('Fitting RF')\n",
        "    rf = RandomForestClassifier(n_estimators=20, max_depth=10, random_state=42)\n",
        "    rf.fit(train_matrix, train_data['lang_id'])\n",
        "\n",
        "    print('Fitting SV')\n",
        "    # Support vector classifier\n",
        "    clf = svm.SVC(decision_function_shape='ovo')\n",
        "    clf.fit(train_matrix, train_data['lang_id'])\n",
        "\n",
        "    print('Fitting KNN')\n",
        "    # Fit KNN with 4 classes.\n",
        "    kn = KNeighborsClassifier(n_neighbors=4)\n",
        "    kn.fit(train_matrix, train_data['lang_id'])\n",
        "\n",
        "    print('Fitting SGD')\n",
        "    # SGD Classifier\n",
        "    sgd = SGDClassifier(random_state=42)\n",
        "    sgd.fit(train_matrix, train_data['lang_id'])\n",
        "\n",
        "    print('Fitting LR')\n",
        "    # Logistic Regression\n",
        "    lr = LogisticRegression(multi_class='ovr', max_iter=500, random_state=42)\n",
        "    lr.fit(train_matrix, train_data['lang_id'])\n",
        "\n",
        "    print('Fitting GBC')\n",
        "    # Gradient Boosting Classifier\n",
        "    gbc = GradientBoostingClassifier(n_estimators=100, learning_rate=1.0, max_depth=1, random_state=42)\n",
        "    #gbc.fit(train_matrix, train_data['lang_id'])\n",
        "\n",
        "    print('Fitting ADA')\n",
        "    # AdaBoost Classifier\n",
        "    abc = AdaBoostClassifier(n_estimators=50, random_state=42)\n",
        "    #abc.fit(train_matrix, train_data['lang_id'])\n",
        "\n",
        "\n",
        "    # Evaluate models\n",
        "    models = {\n",
        "        'Random Forest': rf,\n",
        "        'SVM': clf,\n",
        "        'KNN': kn,\n",
        "        'SGD Classifier': sgd,\n",
        "        'Logistic Regression': lr\n",
        "        #'Gradient Boosting Classifier': gbc,\n",
        "        #'AdaBoost Classifier': abc,\n",
        "    }\n",
        "    f1_scores = {}\n",
        "\n",
        "    for model_name, model in models.items():\n",
        "        y_pred = model.predict(test_matrix)\n",
        "        f1 = f1_score(test_data['lang_id'], y_pred, average='micro')\n",
        "        f1_scores[model_name] = round(f1, 5)\n",
        "        print(f\"{model_name} F1-Score: {f1_scores[model_name]}\")\n",
        "\n",
        "\n",
        "    return models, vectorizer"
      ]
    },
    {
      "cell_type": "code",
      "execution_count": null,
      "id": "6e587ee5",
      "metadata": {
        "id": "6e587ee5",
        "outputId": "c0a16712-2258-4809-fdff-57cdbdb0e458"
      },
      "outputs": [
        {
          "name": "stdout",
          "output_type": "stream",
          "text": [
            "Splitting imput data\n",
            "HashingVectorizer\n",
            "Fitting RF\n",
            "Fitting SV\n"
          ]
        }
      ],
      "source": [
        "#model our train df\n",
        "modelling_output, vc = train_models_and_evaluate(train_df)"
      ]
    },
    {
      "cell_type": "code",
      "execution_count": null,
      "id": "2bf03d70",
      "metadata": {
        "id": "2bf03d70"
      },
      "outputs": [],
      "source": [
        "#vectorize the test set\n",
        "test_vect = vc.transform(test_df)\n"
      ]
    },
    {
      "cell_type": "code",
      "execution_count": null,
      "id": "96f6fe66",
      "metadata": {
        "id": "96f6fe66",
        "outputId": "a5a866b4-dd61-42f8-f8e3-af6898dced3b"
      },
      "outputs": [
        {
          "name": "stdout",
          "output_type": "stream",
          "text": [
            "['xho' 'xho']\n",
            "['ssw' 'ssw']\n",
            "['eng' 'eng']\n",
            "['ssw' 'ssw']\n",
            "['ssw' 'ssw']\n"
          ]
        }
      ],
      "source": [
        "#make predictions for with models\n",
        "for model in modelling_output:\n",
        "    mdl = modelling_output[model]\n",
        "    predictions = mdl.predict(test_vect)\n",
        "    print(predictions)"
      ]
    },
    {
      "cell_type": "code",
      "execution_count": null,
      "id": "69271594",
      "metadata": {
        "id": "69271594"
      },
      "outputs": [],
      "source": []
    },
    {
      "cell_type": "markdown",
      "id": "A7ftaO-OdgCh",
      "metadata": {
        "id": "A7ftaO-OdgCh"
      },
      "source": [
        "# Fitting a Neural Network Model"
      ]
    },
    {
      "cell_type": "code",
      "execution_count": 323,
      "id": "CK47wuYvdjzp",
      "metadata": {
        "id": "CK47wuYvdjzp"
      },
      "outputs": [],
      "source": [
        "# we still use our bag-of words from the count vectoriser above\n",
        "le = LabelEncoder()\n",
        "\n",
        "Y_train = le.fit_transform(Y_train)\n",
        "Y_test = le.transform(Y_test)"
      ]
    },
    {
      "cell_type": "code",
      "execution_count": 324,
      "id": "zppaYJtYiE3B",
      "metadata": {
        "colab": {
          "base_uri": "https://localhost:8080/"
        },
        "id": "zppaYJtYiE3B",
        "outputId": "a21d4c01-6d20-4ca3-de3f-dd90413e2687"
      },
      "outputs": [
        {
          "data": {
            "text/plain": [
              "array(['afr', 'eng', 'nbl', 'nso', 'sot', 'ssw', 'tsn', 'tso', 'ven',\n",
              "       'xho', 'zul'], dtype=object)"
            ]
          },
          "execution_count": 324,
          "metadata": {},
          "output_type": "execute_result"
        }
      ],
      "source": [
        "mapping = le.inverse_transform(list(set(Y_train)))\n",
        "mapping"
      ]
    },
    {
      "cell_type": "code",
      "execution_count": 328,
      "id": "gXhzz7MSe67Y",
      "metadata": {
        "id": "gXhzz7MSe67Y"
      },
      "outputs": [],
      "source": [
        "#setting up the model\n",
        "\n",
        "model = Sequential([\n",
        "    Dense(64, activation='relu', input_shape=(1048576,)),\n",
        "    Dense(64, activation='relu'),\n",
        "    Dense(11, activation='softmax')\n",
        "])"
      ]
    },
    {
      "cell_type": "code",
      "execution_count": 329,
      "id": "b2OHyt3RgMfT",
      "metadata": {
        "id": "b2OHyt3RgMfT"
      },
      "outputs": [],
      "source": [
        "#setting up modelling parameters\n",
        "model.compile(\n",
        "  optimizer='adam',\n",
        "  loss='sparse_categorical_crossentropy',\n",
        "  metrics=['accuracy']\n",
        ")"
      ]
    },
    {
      "cell_type": "code",
      "execution_count": 330,
      "id": "JZXePxOpfD64",
      "metadata": {
        "colab": {
          "base_uri": "https://localhost:8080/"
        },
        "id": "JZXePxOpfD64",
        "outputId": "d4a324a3-7ea4-4e9c-930e-715117683da1"
      },
      "outputs": [
        {
          "name": "stdout",
          "output_type": "stream",
          "text": [
            "Epoch 1/5\n",
            "27/27 [==============================] - 43s 2s/step - loss: 2.2404 - accuracy: 0.6708\n",
            "Epoch 2/5\n",
            "27/27 [==============================] - 39s 1s/step - loss: 1.5209 - accuracy: 0.8795\n",
            "Epoch 3/5\n",
            "27/27 [==============================] - 40s 1s/step - loss: 0.6009 - accuracy: 0.9982\n",
            "Epoch 4/5\n",
            "27/27 [==============================] - 40s 1s/step - loss: 0.1590 - accuracy: 0.9998\n",
            "Epoch 5/5\n",
            "27/27 [==============================] - 40s 1s/step - loss: 0.0521 - accuracy: 1.0000\n"
          ]
        }
      ],
      "source": [
        "# Training the model\n",
        "history = model.fit(X_train,Y_train, batch_size=1000, epochs=5, verbose=True)\n"
      ]
    },
    {
      "cell_type": "code",
      "execution_count": 331,
      "id": "LT9Qzf4Ylbid",
      "metadata": {
        "colab": {
          "base_uri": "https://localhost:8080/",
          "height": 507
        },
        "id": "LT9Qzf4Ylbid",
        "outputId": "f727a1ef-3de9-41c1-f413-c88a9170f840"
      },
      "outputs": [
        {
          "data": {
            "image/png": "[encoded data removed]",
            "text/plain": [
              "<Figure size 640x480 with 1 Axes>"
            ]
          },
          "metadata": {},
          "output_type": "display_data"
        },
        {
          "name": "stdout",
          "output_type": "stream",
          "text": [
            "Test loss: 0.0707\n",
            "Test accuracy: 0.999\n"
          ]
        }
      ],
      "source": [
        "# Evaluating the model\n",
        "loss, accuracy  = model.evaluate(X_test,Y_test, verbose=False)\n",
        "\n",
        "plt.plot(history.history['accuracy'])\n",
        "#plt.plot(history.history['eval_accuracy'])\n",
        "plt.title('model accuracy')\n",
        "plt.ylabel('accuracy')\n",
        "plt.xlabel('epoch')\n",
        "plt.legend(['training', 'validation'], loc='best')\n",
        "plt.show()\n",
        "\n",
        "print(f'Test loss: {loss:.3}')\n",
        "print(f'Test accuracy: {accuracy:.3}')"
      ]
    },
    {
      "cell_type": "code",
      "execution_count": 332,
      "id": "iIt9eMmjjb1X",
      "metadata": {
        "colab": {
          "base_uri": "https://localhost:8080/"
        },
        "id": "iIt9eMmjjb1X",
        "outputId": "30bb4c38-bb2d-42f7-896a-ea6ef02ca2e0"
      },
      "outputs": [
        {
          "name": "stdout",
          "output_type": "stream",
          "text": [
            "178/178 [==============================] - 1s 2ms/step\n"
          ]
        }
      ],
      "source": [
        "test_matrix = vectorizer.transform(test_df['text'].values.astype('U'))\n",
        "predict = model.predict(test_matrix)"
      ]
    },
    {
      "cell_type": "code",
      "execution_count": 333,
      "id": "zw3_2N3SoSmx",
      "metadata": {
        "id": "zw3_2N3SoSmx"
      },
      "outputs": [],
      "source": [
        "#mapping predictions to\n",
        "predict_value = []\n",
        "for prediction in predict:\n",
        "  predict_value.append(mapping[np.argmax(prediction, axis=0)])"
      ]
    },
    {
      "cell_type": "code",
      "execution_count": 335,
      "id": "pkkYAKmTdRja",
      "metadata": {
        "id": "pkkYAKmTdRja"
      },
      "outputs": [],
      "source": [
        "output_df = test_df[['index']]\n",
        "output_df['lang_id'] = predict_value\n",
        "\n",
        "output_df.to_csv(f'NN_kaggle_submission11.csv', index=False)"
      ]
    },
    {
      "cell_type": "markdown",
      "id": "Z_A88gJ-6DIU",
      "metadata": {
        "id": "Z_A88gJ-6DIU"
      },
      "source": [
        "## Model Performance"
      ]
    },
    {
      "cell_type": "code",
      "execution_count": 337,
      "id": "hfdv-Q4NoGMS",
      "metadata": {
        "colab": {
          "base_uri": "https://localhost:8080/"
        },
        "id": "hfdv-Q4NoGMS",
        "outputId": "761bf93e-4a1e-486b-fdad-6266a7ed770d"
      },
      "outputs": [
        {
          "name": "stdout",
          "output_type": "stream",
          "text": [
            "207/207 [==============================] - 0s 2ms/step\n"
          ]
        }
      ],
      "source": [
        "from sklearn.metrics import confusion_matrix\n",
        "\n",
        "#make predictions on the testing set\n",
        "predict = model.predict(X_test)\n",
        "predict_value = []\n",
        "for prediction in predict:\n",
        "  predict_value.append(mapping[np.argmax(prediction, axis=0)])\n"
      ]
    },
    {
      "cell_type": "code",
      "execution_count": 342,
      "id": "79Gkg2rZopmF",
      "metadata": {
        "colab": {
          "base_uri": "https://localhost:8080/",
          "height": 394
        },
        "id": "79Gkg2rZopmF",
        "outputId": "ad544d8e-4e8e-4e07-e15d-d472e32a97b8"
      },
      "outputs": [
        {
          "data": {
            "text/html": [
              "\n",
              "  <div id=\"df-8e4194a1-4774-4b1c-9abc-f274ad2af6cd\" class=\"colab-df-container\">\n",
              "    <div>\n",
              "<style scoped>\n",
              "    .dataframe tbody tr th:only-of-type {\n",
              "        vertical-align: middle;\n",
              "    }\n",
              "\n",
              "    .dataframe tbody tr th {\n",
              "        vertical-align: top;\n",
              "    }\n",
              "\n",
              "    .dataframe thead th {\n",
              "        text-align: right;\n",
              "    }\n",
              "</style>\n",
              "<table border=\"1\" class=\"dataframe\">\n",
              "  <thead>\n",
              "    <tr style=\"text-align: right;\">\n",
              "      <th></th>\n",
              "      <th>afr</th>\n",
              "      <th>eng</th>\n",
              "      <th>nbl</th>\n",
              "      <th>nso</th>\n",
              "      <th>sot</th>\n",
              "      <th>ssw</th>\n",
              "      <th>tsn</th>\n",
              "      <th>tso</th>\n",
              "      <th>ven</th>\n",
              "      <th>xho</th>\n",
              "      <th>zul</th>\n",
              "    </tr>\n",
              "  </thead>\n",
              "  <tbody>\n",
              "    <tr>\n",
              "      <th>afr</th>\n",
              "      <td>601</td>\n",
              "      <td>0</td>\n",
              "      <td>0</td>\n",
              "      <td>0</td>\n",
              "      <td>0</td>\n",
              "      <td>0</td>\n",
              "      <td>0</td>\n",
              "      <td>0</td>\n",
              "      <td>0</td>\n",
              "      <td>0</td>\n",
              "      <td>0</td>\n",
              "    </tr>\n",
              "    <tr>\n",
              "      <th>eng</th>\n",
              "      <td>0</td>\n",
              "      <td>617</td>\n",
              "      <td>0</td>\n",
              "      <td>0</td>\n",
              "      <td>0</td>\n",
              "      <td>0</td>\n",
              "      <td>0</td>\n",
              "      <td>0</td>\n",
              "      <td>0</td>\n",
              "      <td>0</td>\n",
              "      <td>0</td>\n",
              "    </tr>\n",
              "    <tr>\n",
              "      <th>nbl</th>\n",
              "      <td>0</td>\n",
              "      <td>0</td>\n",
              "      <td>589</td>\n",
              "      <td>0</td>\n",
              "      <td>0</td>\n",
              "      <td>0</td>\n",
              "      <td>0</td>\n",
              "      <td>0</td>\n",
              "      <td>0</td>\n",
              "      <td>1</td>\n",
              "      <td>0</td>\n",
              "    </tr>\n",
              "    <tr>\n",
              "      <th>nso</th>\n",
              "      <td>0</td>\n",
              "      <td>0</td>\n",
              "      <td>0</td>\n",
              "      <td>627</td>\n",
              "      <td>0</td>\n",
              "      <td>0</td>\n",
              "      <td>0</td>\n",
              "      <td>0</td>\n",
              "      <td>0</td>\n",
              "      <td>0</td>\n",
              "      <td>0</td>\n",
              "    </tr>\n",
              "    <tr>\n",
              "      <th>sot</th>\n",
              "      <td>0</td>\n",
              "      <td>0</td>\n",
              "      <td>0</td>\n",
              "      <td>0</td>\n",
              "      <td>583</td>\n",
              "      <td>0</td>\n",
              "      <td>0</td>\n",
              "      <td>0</td>\n",
              "      <td>0</td>\n",
              "      <td>0</td>\n",
              "      <td>0</td>\n",
              "    </tr>\n",
              "    <tr>\n",
              "      <th>ssw</th>\n",
              "      <td>0</td>\n",
              "      <td>0</td>\n",
              "      <td>1</td>\n",
              "      <td>0</td>\n",
              "      <td>0</td>\n",
              "      <td>628</td>\n",
              "      <td>0</td>\n",
              "      <td>0</td>\n",
              "      <td>0</td>\n",
              "      <td>0</td>\n",
              "      <td>1</td>\n",
              "    </tr>\n",
              "    <tr>\n",
              "      <th>tsn</th>\n",
              "      <td>0</td>\n",
              "      <td>0</td>\n",
              "      <td>0</td>\n",
              "      <td>1</td>\n",
              "      <td>0</td>\n",
              "      <td>0</td>\n",
              "      <td>590</td>\n",
              "      <td>0</td>\n",
              "      <td>0</td>\n",
              "      <td>0</td>\n",
              "      <td>0</td>\n",
              "    </tr>\n",
              "    <tr>\n",
              "      <th>tso</th>\n",
              "      <td>0</td>\n",
              "      <td>0</td>\n",
              "      <td>0</td>\n",
              "      <td>0</td>\n",
              "      <td>0</td>\n",
              "      <td>0</td>\n",
              "      <td>0</td>\n",
              "      <td>586</td>\n",
              "      <td>0</td>\n",
              "      <td>0</td>\n",
              "      <td>0</td>\n",
              "    </tr>\n",
              "    <tr>\n",
              "      <th>ven</th>\n",
              "      <td>0</td>\n",
              "      <td>0</td>\n",
              "      <td>0</td>\n",
              "      <td>0</td>\n",
              "      <td>0</td>\n",
              "      <td>0</td>\n",
              "      <td>0</td>\n",
              "      <td>0</td>\n",
              "      <td>582</td>\n",
              "      <td>0</td>\n",
              "      <td>0</td>\n",
              "    </tr>\n",
              "    <tr>\n",
              "      <th>xho</th>\n",
              "      <td>0</td>\n",
              "      <td>0</td>\n",
              "      <td>0</td>\n",
              "      <td>0</td>\n",
              "      <td>0</td>\n",
              "      <td>0</td>\n",
              "      <td>0</td>\n",
              "      <td>0</td>\n",
              "      <td>0</td>\n",
              "      <td>591</td>\n",
              "      <td>1</td>\n",
              "    </tr>\n",
              "    <tr>\n",
              "      <th>zul</th>\n",
              "      <td>0</td>\n",
              "      <td>0</td>\n",
              "      <td>0</td>\n",
              "      <td>0</td>\n",
              "      <td>0</td>\n",
              "      <td>0</td>\n",
              "      <td>0</td>\n",
              "      <td>0</td>\n",
              "      <td>0</td>\n",
              "      <td>0</td>\n",
              "      <td>601</td>\n",
              "    </tr>\n",
              "  </tbody>\n",
              "</table>\n",
              "</div>\n",
              "    <div class=\"colab-df-buttons\">\n",
              "\n",
              "  <div class=\"colab-df-container\">\n",
              "    <button class=\"colab-df-convert\" onclick=\"convertToInteractive('df-8e4194a1-4774-4b1c-9abc-f274ad2af6cd')\"\n",
              "            title=\"Convert this dataframe to an interactive table.\"\n",
              "            style=\"display:none;\">\n",
              "\n",
              "  <svg xmlns=\"http://www.w3.org/2000/svg\" height=\"24px\" viewBox=\"0 -960 960 960\">\n",
              "    <path d=\"M120-120v-720h720v720H120Zm60-500h600v-160H180v160Zm220 220h160v-160H400v160Zm0 220h160v-160H400v160ZM180-400h160v-160H180v160Zm440 0h160v-160H620v160ZM180-180h160v-160H180v160Zm440 0h160v-160H620v160Z\"/>\n",
              "  </svg>\n",
              "    </button>\n",
              "\n",
              "  <style>\n",
              "    .colab-df-container {\n",
              "      display:flex;\n",
              "      gap: 12px;\n",
              "    }\n",
              "\n",
              "    .colab-df-convert {\n",
              "      background-color: #E8F0FE;\n",
              "      border: none;\n",
              "      border-radius: 50%;\n",
              "      cursor: pointer;\n",
              "      display: none;\n",
              "      fill: #1967D2;\n",
              "      height: 32px;\n",
              "      padding: 0 0 0 0;\n",
              "      width: 32px;\n",
              "    }\n",
              "\n",
              "    .colab-df-convert:hover {\n",
              "      background-color: #E2EBFA;\n",
              "      box-shadow: 0px 1px 2px rgba(60, 64, 67, 0.3), 0px 1px 3px 1px rgba(60, 64, 67, 0.15);\n",
              "      fill: #174EA6;\n",
              "    }\n",
              "\n",
              "    .colab-df-buttons div {\n",
              "      margin-bottom: 4px;\n",
              "    }\n",
              "\n",
              "    [theme=dark] .colab-df-convert {\n",
              "      background-color: #3B4455;\n",
              "      fill: #D2E3FC;\n",
              "    }\n",
              "\n",
              "    [theme=dark] .colab-df-convert:hover {\n",
              "      background-color: #434B5C;\n",
              "      box-shadow: 0px 1px 3px 1px rgba(0, 0, 0, 0.15);\n",
              "      filter: drop-shadow(0px 1px 2px rgba(0, 0, 0, 0.3));\n",
              "      fill: #FFFFFF;\n",
              "    }\n",
              "  </style>\n",
              "\n",
              "    <script>\n",
              "      const buttonEl =\n",
              "        document.querySelector('#df-8e4194a1-4774-4b1c-9abc-f274ad2af6cd button.colab-df-convert');\n",
              "      buttonEl.style.display =\n",
              "        google.colab.kernel.accessAllowed ? 'block' : 'none';\n",
              "\n",
              "      async function convertToInteractive(key) {\n",
              "        const element = document.querySelector('#df-8e4194a1-4774-4b1c-9abc-f274ad2af6cd');\n",
              "        const dataTable =\n",
              "          await google.colab.kernel.invokeFunction('convertToInteractive',\n",
              "                                                    [key], {});\n",
              "        if (!dataTable) return;\n",
              "\n",
              "        const docLinkHtml = 'Like what you see? Visit the ' +\n",
              "          '<a target=\"_blank\" href=https://colab.research.google.com/notebooks/data_table.ipynb>data table notebook</a>'\n",
              "          + ' to learn more about interactive tables.';\n",
              "        element.innerHTML = '';\n",
              "        dataTable['output_type'] = 'display_data';\n",
              "        await google.colab.output.renderOutput(dataTable, element);\n",
              "        const docLink = document.createElement('div');\n",
              "        docLink.innerHTML = docLinkHtml;\n",
              "        element.appendChild(docLink);\n",
              "      }\n",
              "    </script>\n",
              "  </div>\n",
              "\n",
              "\n",
              "<div id=\"df-94a86a88-d31f-492a-9353-f70f3fd81f8e\">\n",
              "  <button class=\"colab-df-quickchart\" onclick=\"quickchart('df-94a86a88-d31f-492a-9353-f70f3fd81f8e')\"\n",
              "            title=\"Suggest charts\"\n",
              "            style=\"display:none;\">\n",
              "\n",
              "<svg xmlns=\"http://www.w3.org/2000/svg\" height=\"24px\"viewBox=\"0 0 24 24\"\n",
              "     width=\"24px\">\n",
              "    <g>\n",
              "        <path d=\"M19 3H5c-1.1 0-2 .9-2 2v14c0 1.1.9 2 2 2h14c1.1 0 2-.9 2-2V5c0-1.1-.9-2-2-2zM9 17H7v-7h2v7zm4 0h-2V7h2v10zm4 0h-2v-4h2v4z\"/>\n",
              "    </g>\n",
              "</svg>\n",
              "  </button>\n",
              "\n",
              "<style>\n",
              "  .colab-df-quickchart {\n",
              "      --bg-color: #E8F0FE;\n",
              "      --fill-color: #1967D2;\n",
              "      --hover-bg-color: #E2EBFA;\n",
              "      --hover-fill-color: #174EA6;\n",
              "      --disabled-fill-color: #AAA;\n",
              "      --disabled-bg-color: #DDD;\n",
              "  }\n",
              "\n",
              "  [theme=dark] .colab-df-quickchart {\n",
              "      --bg-color: #3B4455;\n",
              "      --fill-color: #D2E3FC;\n",
              "      --hover-bg-color: #434B5C;\n",
              "      --hover-fill-color: #FFFFFF;\n",
              "      --disabled-bg-color: #3B4455;\n",
              "      --disabled-fill-color: #666;\n",
              "  }\n",
              "\n",
              "  .colab-df-quickchart {\n",
              "    background-color: var(--bg-color);\n",
              "    border: none;\n",
              "    border-radius: 50%;\n",
              "    cursor: pointer;\n",
              "    display: none;\n",
              "    fill: var(--fill-color);\n",
              "    height: 32px;\n",
              "    padding: 0;\n",
              "    width: 32px;\n",
              "  }\n",
              "\n",
              "  .colab-df-quickchart:hover {\n",
              "    background-color: var(--hover-bg-color);\n",
              "    box-shadow: 0 1px 2px rgba(60, 64, 67, 0.3), 0 1px 3px 1px rgba(60, 64, 67, 0.15);\n",
              "    fill: var(--button-hover-fill-color);\n",
              "  }\n",
              "\n",
              "  .colab-df-quickchart-complete:disabled,\n",
              "  .colab-df-quickchart-complete:disabled:hover {\n",
              "    background-color: var(--disabled-bg-color);\n",
              "    fill: var(--disabled-fill-color);\n",
              "    box-shadow: none;\n",
              "  }\n",
              "\n",
              "  .colab-df-spinner {\n",
              "    border: 2px solid var(--fill-color);\n",
              "    border-color: transparent;\n",
              "    border-bottom-color: var(--fill-color);\n",
              "    animation:\n",
              "      spin 1s steps(1) infinite;\n",
              "  }\n",
              "\n",
              "  @keyframes spin {\n",
              "    0% {\n",
              "      border-color: transparent;\n",
              "      border-bottom-color: var(--fill-color);\n",
              "      border-left-color: var(--fill-color);\n",
              "    }\n",
              "    20% {\n",
              "      border-color: transparent;\n",
              "      border-left-color: var(--fill-color);\n",
              "      border-top-color: var(--fill-color);\n",
              "    }\n",
              "    30% {\n",
              "      border-color: transparent;\n",
              "      border-left-color: var(--fill-color);\n",
              "      border-top-color: var(--fill-color);\n",
              "      border-right-color: var(--fill-color);\n",
              "    }\n",
              "    40% {\n",
              "      border-color: transparent;\n",
              "      border-right-color: var(--fill-color);\n",
              "      border-top-color: var(--fill-color);\n",
              "    }\n",
              "    60% {\n",
              "      border-color: transparent;\n",
              "      border-right-color: var(--fill-color);\n",
              "    }\n",
              "    80% {\n",
              "      border-color: transparent;\n",
              "      border-right-color: var(--fill-color);\n",
              "      border-bottom-color: var(--fill-color);\n",
              "    }\n",
              "    90% {\n",
              "      border-color: transparent;\n",
              "      border-bottom-color: var(--fill-color);\n",
              "    }\n",
              "  }\n",
              "</style>\n",
              "\n",
              "  <script>\n",
              "    async function quickchart(key) {\n",
              "      const quickchartButtonEl =\n",
              "        document.querySelector('#' + key + ' button');\n",
              "      quickchartButtonEl.disabled = true;  // To prevent multiple clicks.\n",
              "      quickchartButtonEl.classList.add('colab-df-spinner');\n",
              "      try {\n",
              "        const charts = await google.colab.kernel.invokeFunction(\n",
              "            'suggestCharts', [key], {});\n",
              "      } catch (error) {\n",
              "        console.error('Error during call to suggestCharts:', error);\n",
              "      }\n",
              "      quickchartButtonEl.classList.remove('colab-df-spinner');\n",
              "      quickchartButtonEl.classList.add('colab-df-quickchart-complete');\n",
              "    }\n",
              "    (() => {\n",
              "      let quickchartButtonEl =\n",
              "        document.querySelector('#df-94a86a88-d31f-492a-9353-f70f3fd81f8e button');\n",
              "      quickchartButtonEl.style.display =\n",
              "        google.colab.kernel.accessAllowed ? 'block' : 'none';\n",
              "    })();\n",
              "  </script>\n",
              "</div>\n",
              "    </div>\n",
              "  </div>\n"
            ],
            "text/plain": [
              "     afr  eng  nbl  nso  sot  ssw  tsn  tso  ven  xho  zul\n",
              "afr  601    0    0    0    0    0    0    0    0    0    0\n",
              "eng    0  617    0    0    0    0    0    0    0    0    0\n",
              "nbl    0    0  589    0    0    0    0    0    0    1    0\n",
              "nso    0    0    0  627    0    0    0    0    0    0    0\n",
              "sot    0    0    0    0  583    0    0    0    0    0    0\n",
              "ssw    0    0    1    0    0  628    0    0    0    0    1\n",
              "tsn    0    0    0    1    0    0  590    0    0    0    0\n",
              "tso    0    0    0    0    0    0    0  586    0    0    0\n",
              "ven    0    0    0    0    0    0    0    0  582    0    0\n",
              "xho    0    0    0    0    0    0    0    0    0  591    1\n",
              "zul    0    0    0    0    0    0    0    0    0    0  601"
            ]
          },
          "execution_count": 342,
          "metadata": {},
          "output_type": "execute_result"
        }
      ],
      "source": [
        "# Confusion Metrics\n",
        "pd.DataFrame(confusion_matrix(predict_value,le.inverse_transform(Y_test)), index=mapping, columns=mapping)"
      ]
    },
    {
      "cell_type": "markdown",
      "id": "N6DtKOjEptI8",
      "metadata": {
        "id": "N6DtKOjEptI8"
      },
      "source": [
        "### Overall Classification Report\n"
      ]
    },
    {
      "cell_type": "code",
      "execution_count": 343,
      "id": "HJZMHPMKpw5W",
      "metadata": {
        "colab": {
          "base_uri": "https://localhost:8080/"
        },
        "id": "HJZMHPMKpw5W",
        "outputId": "7ae11162-d715-4686-de58-77771d06c202"
      },
      "outputs": [
        {
          "name": "stdout",
          "output_type": "stream",
          "text": [
            "Classification Report\n",
            "              precision    recall  f1-score   support\n",
            "\n",
            "         afr       1.00      1.00      1.00       601\n",
            "         eng       1.00      1.00      1.00       617\n",
            "         nbl       1.00      1.00      1.00       590\n",
            "         nso       1.00      1.00      1.00       628\n",
            "         sot       1.00      1.00      1.00       583\n",
            "         ssw       1.00      1.00      1.00       628\n",
            "         tsn       1.00      1.00      1.00       590\n",
            "         tso       1.00      1.00      1.00       586\n",
            "         ven       1.00      1.00      1.00       582\n",
            "         xho       1.00      1.00      1.00       592\n",
            "         zul       1.00      1.00      1.00       603\n",
            "\n",
            "    accuracy                           1.00      6600\n",
            "   macro avg       1.00      1.00      1.00      6600\n",
            "weighted avg       1.00      1.00      1.00      6600\n",
            "\n"
          ]
        }
      ],
      "source": [
        "from sklearn.metrics import classification_report\n",
        "\n",
        "print('Classification Report')\n",
        "print(classification_report(le.inverse_transform(Y_test), predict_value, target_names=mapping))"
      ]
    },
    {
      "cell_type": "code",
      "execution_count": null,
      "id": "wnz8dXQ_qH3_",
      "metadata": {
        "id": "wnz8dXQ_qH3_"
      },
      "outputs": [],
      "source": []
    }
  ],
  "metadata": {
    "colab": {
      "collapsed_sections": [
        "GoALDz_E2M80",
        "6273d36c"
      ],
      "provenance": []
    },
    "kernelspec": {
      "display_name": "Python 3",
      "language": "python",
      "name": "python3"
    },
    "language_info": {
      "codemirror_mode": {
        "name": "ipython",
        "version": 3
      },
      "file_extension": ".py",
      "mimetype": "text/x-python",
      "name": "python",
      "nbconvert_exporter": "python",
      "pygments_lexer": "ipython3",
      "version": "3.11.7"
    }
  },
  "nbformat": 4,
  "nbformat_minor": 5
}
